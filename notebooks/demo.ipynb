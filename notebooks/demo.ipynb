{
 "cells": [
  {
   "cell_type": "code",
   "execution_count": 1,
   "metadata": {
    "collapsed": true
   },
   "outputs": [],
   "source": [
    "from blockchain import BlockChain"
   ]
  },
  {
   "cell_type": "markdown",
   "source": [
    "### Create a new BlockChain"
   ],
   "metadata": {
    "collapsed": false,
    "pycharm": {
     "name": "#%% md\n"
    }
   }
  },
  {
   "cell_type": "code",
   "execution_count": 2,
   "outputs": [],
   "source": [
    "blockchain = BlockChain()"
   ],
   "metadata": {
    "collapsed": false,
    "pycharm": {
     "name": "#%%\n"
    }
   }
  },
  {
   "cell_type": "markdown",
   "source": [
    "### Execute basic transactions"
   ],
   "metadata": {
    "collapsed": false
   }
  },
  {
   "cell_type": "code",
   "execution_count": 3,
   "outputs": [],
   "source": [
    "t1_index = blockchain.new_transaction(\"Joffrey\", \"Alan\", \"5BTC\")"
   ],
   "metadata": {
    "collapsed": false,
    "pycharm": {
     "name": "#%%\n"
    }
   }
  },
  {
   "cell_type": "code",
   "execution_count": 4,
   "outputs": [
    {
     "data": {
      "text/plain": "2"
     },
     "execution_count": 4,
     "metadata": {},
     "output_type": "execute_result"
    }
   ],
   "source": [
    "t1_index"
   ],
   "metadata": {
    "collapsed": false,
    "pycharm": {
     "name": "#%%\n"
    }
   }
  },
  {
   "cell_type": "code",
   "execution_count": 5,
   "outputs": [],
   "source": [
    "t2_index = blockchain.new_transaction(\"Alan\", \"Joffrey\", \"1BTC\")\n",
    "t3_index = blockchain.new_transaction(\"Alan\", \"Joffrey\", \"1BTC\")"
   ],
   "metadata": {
    "collapsed": false,
    "pycharm": {
     "name": "#%%\n"
    }
   }
  },
  {
   "cell_type": "code",
   "execution_count": 6,
   "outputs": [
    {
     "data": {
      "text/plain": "{'index': 2,\n 'timestamp': 1645272679.037266,\n 'transactions': [{'sender': 'Joffrey', 'recipient': 'Alan', 'amount': '5BTC'},\n  {'sender': 'Alan', 'recipient': 'Joffrey', 'amount': '1BTC'},\n  {'sender': 'Alan', 'recipient': 'Joffrey', 'amount': '1BTC'}],\n 'proof': 5672,\n 'previous_hash': 'aae8c52405181d9ae0fe6c601fbc1867811714bab9358c1e6a4addc72b114f66'}"
     },
     "execution_count": 6,
     "metadata": {},
     "output_type": "execute_result"
    }
   ],
   "source": [
    "blockchain.new_block(5672)"
   ],
   "metadata": {
    "collapsed": false,
    "pycharm": {
     "name": "#%%\n"
    }
   }
  },
  {
   "cell_type": "code",
   "execution_count": 7,
   "outputs": [
    {
     "data": {
      "text/plain": "[{'index': 1,\n  'timestamp': 1645272578.9863832,\n  'transactions': [],\n  'proof': 100,\n  'previous_hash': 'Hello World !'},\n {'index': 2,\n  'timestamp': 1645272679.037266,\n  'transactions': [{'sender': 'Joffrey',\n    'recipient': 'Alan',\n    'amount': '5BTC'},\n   {'sender': 'Alan', 'recipient': 'Joffrey', 'amount': '1BTC'},\n   {'sender': 'Alan', 'recipient': 'Joffrey', 'amount': '1BTC'}],\n  'proof': 5672,\n  'previous_hash': 'aae8c52405181d9ae0fe6c601fbc1867811714bab9358c1e6a4addc72b114f66'}]"
     },
     "execution_count": 7,
     "metadata": {},
     "output_type": "execute_result"
    }
   ],
   "source": [
    "blockchain.chain"
   ],
   "metadata": {
    "collapsed": false,
    "pycharm": {
     "name": "#%%\n"
    }
   }
  },
  {
   "cell_type": "code",
   "execution_count": null,
   "outputs": [],
   "source": [],
   "metadata": {
    "collapsed": false,
    "pycharm": {
     "name": "#%%\n"
    }
   }
  }
 ],
 "metadata": {
  "kernelspec": {
   "display_name": "Python 3",
   "language": "python",
   "name": "python3"
  },
  "language_info": {
   "codemirror_mode": {
    "name": "ipython",
    "version": 2
   },
   "file_extension": ".py",
   "mimetype": "text/x-python",
   "name": "python",
   "nbconvert_exporter": "python",
   "pygments_lexer": "ipython2",
   "version": "2.7.6"
  }
 },
 "nbformat": 4,
 "nbformat_minor": 0
}